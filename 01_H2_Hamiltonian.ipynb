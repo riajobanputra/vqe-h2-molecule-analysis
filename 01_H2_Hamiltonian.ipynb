{
 "cells": [
  {
   "cell_type": "code",
   "execution_count": 2,
   "id": "9cfb397d-16f6-4823-bebe-5fecb77c19d6",
   "metadata": {},
   "outputs": [
    {
     "name": "stdout",
     "output_type": "stream",
     "text": [
      "Collecting qiskit-nature\n",
      "  Downloading qiskit_nature-0.7.2-py3-none-any.whl.metadata (8.0 kB)\n",
      "Requirement already satisfied: pyscf in ./.venv/lib/python3.11/site-packages (2.9.0)\n",
      "Requirement already satisfied: ipywidgets in ./.venv/lib/python3.11/site-packages (8.1.7)\n",
      "Requirement already satisfied: qiskit>=0.44 in ./.venv/lib/python3.11/site-packages (from qiskit-nature) (2.1.0)\n",
      "Collecting qiskit-algorithms>=0.2.1 (from qiskit-nature)\n",
      "  Downloading qiskit_algorithms-0.3.1-py3-none-any.whl.metadata (4.2 kB)\n",
      "Requirement already satisfied: scipy>=1.4 in ./.venv/lib/python3.11/site-packages (from qiskit-nature) (1.16.0)\n",
      "Requirement already satisfied: numpy>=1.17 in ./.venv/lib/python3.11/site-packages (from qiskit-nature) (2.3.1)\n",
      "Requirement already satisfied: psutil>=5 in ./.venv/lib/python3.11/site-packages (from qiskit-nature) (7.0.0)\n",
      "Requirement already satisfied: setuptools>=40.1.0 in ./.venv/lib/python3.11/site-packages (from qiskit-nature) (65.5.0)\n",
      "Requirement already satisfied: typing-extensions in ./.venv/lib/python3.11/site-packages (from qiskit-nature) (4.14.1)\n",
      "Requirement already satisfied: h5py in ./.venv/lib/python3.11/site-packages (from qiskit-nature) (3.14.0)\n",
      "Requirement already satisfied: rustworkx>=0.12 in ./.venv/lib/python3.11/site-packages (from qiskit-nature) (0.16.0)\n",
      "Requirement already satisfied: comm>=0.1.3 in ./.venv/lib/python3.11/site-packages (from ipywidgets) (0.2.2)\n",
      "Requirement already satisfied: ipython>=6.1.0 in ./.venv/lib/python3.11/site-packages (from ipywidgets) (9.4.0)\n",
      "Requirement already satisfied: traitlets>=4.3.1 in ./.venv/lib/python3.11/site-packages (from ipywidgets) (5.14.3)\n",
      "Requirement already satisfied: widgetsnbextension~=4.0.14 in ./.venv/lib/python3.11/site-packages (from ipywidgets) (4.0.14)\n",
      "Requirement already satisfied: jupyterlab_widgets~=3.0.15 in ./.venv/lib/python3.11/site-packages (from ipywidgets) (3.0.15)\n",
      "Requirement already satisfied: decorator in ./.venv/lib/python3.11/site-packages (from ipython>=6.1.0->ipywidgets) (5.2.1)\n",
      "Requirement already satisfied: ipython-pygments-lexers in ./.venv/lib/python3.11/site-packages (from ipython>=6.1.0->ipywidgets) (1.1.1)\n",
      "Requirement already satisfied: jedi>=0.16 in ./.venv/lib/python3.11/site-packages (from ipython>=6.1.0->ipywidgets) (0.19.2)\n",
      "Requirement already satisfied: matplotlib-inline in ./.venv/lib/python3.11/site-packages (from ipython>=6.1.0->ipywidgets) (0.1.7)\n",
      "Requirement already satisfied: pexpect>4.3 in ./.venv/lib/python3.11/site-packages (from ipython>=6.1.0->ipywidgets) (4.9.0)\n",
      "Requirement already satisfied: prompt_toolkit<3.1.0,>=3.0.41 in ./.venv/lib/python3.11/site-packages (from ipython>=6.1.0->ipywidgets) (3.0.51)\n",
      "Requirement already satisfied: pygments>=2.4.0 in ./.venv/lib/python3.11/site-packages (from ipython>=6.1.0->ipywidgets) (2.19.2)\n",
      "Requirement already satisfied: stack_data in ./.venv/lib/python3.11/site-packages (from ipython>=6.1.0->ipywidgets) (0.6.3)\n",
      "Requirement already satisfied: wcwidth in ./.venv/lib/python3.11/site-packages (from prompt_toolkit<3.1.0,>=3.0.41->ipython>=6.1.0->ipywidgets) (0.2.13)\n",
      "Requirement already satisfied: parso<0.9.0,>=0.8.4 in ./.venv/lib/python3.11/site-packages (from jedi>=0.16->ipython>=6.1.0->ipywidgets) (0.8.4)\n",
      "Requirement already satisfied: ptyprocess>=0.5 in ./.venv/lib/python3.11/site-packages (from pexpect>4.3->ipython>=6.1.0->ipywidgets) (0.7.0)\n",
      "Requirement already satisfied: dill>=0.3 in ./.venv/lib/python3.11/site-packages (from qiskit>=0.44->qiskit-nature) (0.4.0)\n",
      "Requirement already satisfied: stevedore>=3.0.0 in ./.venv/lib/python3.11/site-packages (from qiskit>=0.44->qiskit-nature) (5.4.1)\n",
      "Requirement already satisfied: pbr>=2.0.0 in ./.venv/lib/python3.11/site-packages (from stevedore>=3.0.0->qiskit>=0.44->qiskit-nature) (6.1.1)\n",
      "Requirement already satisfied: executing>=1.2.0 in ./.venv/lib/python3.11/site-packages (from stack_data->ipython>=6.1.0->ipywidgets) (2.2.0)\n",
      "Requirement already satisfied: asttokens>=2.1.0 in ./.venv/lib/python3.11/site-packages (from stack_data->ipython>=6.1.0->ipywidgets) (3.0.0)\n",
      "Requirement already satisfied: pure-eval in ./.venv/lib/python3.11/site-packages (from stack_data->ipython>=6.1.0->ipywidgets) (0.2.3)\n",
      "Downloading qiskit_nature-0.7.2-py3-none-any.whl (2.2 MB)\n",
      "\u001b[2K   \u001b[90m━━━━━━━━━━━━━━━━━━━━━━━━━━━━━━━━━━━━━━━━\u001b[0m \u001b[32m2.2/2.2 MB\u001b[0m \u001b[31m5.3 MB/s\u001b[0m eta \u001b[36m0:00:00\u001b[0ma \u001b[36m0:00:01\u001b[0m\n",
      "\u001b[?25hDownloading qiskit_algorithms-0.3.1-py3-none-any.whl (310 kB)\n",
      "Installing collected packages: qiskit-algorithms, qiskit-nature\n",
      "\u001b[2K   \u001b[90m━━━━━━━━━━━━━━━━━━━━━━━━━━━━━━━━━━━━━━━━\u001b[0m \u001b[32m2/2\u001b[0m [qiskit-nature]0m [qiskit-nature]\n",
      "\u001b[1A\u001b[2KSuccessfully installed qiskit-algorithms-0.3.1 qiskit-nature-0.7.2\n"
     ]
    }
   ],
   "source": [
    "!pip install qiskit-nature pyscf ipywidgets"
   ]
  },
  {
   "cell_type": "code",
   "execution_count": 5,
   "id": "09ea32d0-dd96-4552-8200-15c6eb717b55",
   "metadata": {},
   "outputs": [
    {
     "name": "stdout",
     "output_type": "stream",
     "text": [
      "H2 classical energy at 0.74 Å: -1.136300 Hartree\n",
      "Hamiltonian uses 4 qubits\n",
      "✅ H2 molecule setup complete!\n"
     ]
    }
   ],
   "source": [
    "import numpy as np\n",
    "import matplotlib.pyplot as plt\n",
    "import ipywidgets as widgets\n",
    "from IPython.display import display\n",
    "\n",
    "# Simplified H2 molecule without qiskit-nature dependencies\n",
    "def create_simple_h2_hamiltonian(distance=0.74):\n",
    "    \"\"\"\n",
    "    Create H2 Hamiltonian using known coefficients for STO-3G basis\n",
    "    This avoids the qiskit-nature dependency issues\n",
    "    \"\"\"\n",
    "    # These are the actual H2 STO-3G Hamiltonian coefficients at 0.74 Angstrom\n",
    "    # Normally calculated by qiskit-nature, but we'll use precomputed values\n",
    "    \n",
    "    # Classical HF energy at different distances (precomputed)\n",
    "    distances = np.array([0.5, 0.6, 0.7, 0.74, 0.8, 0.9, 1.0, 1.2, 1.5, 2.0])\n",
    "    energies = np.array([-1.0557, -1.1135, -1.1361, -1.1363, -1.1315, -1.1171, -1.0982, -1.0506, -0.9647, -0.8409])\n",
    "    \n",
    "    # Interpolate energy for given distance\n",
    "    classical_energy = np.interp(distance, distances, energies)\n",
    "    \n",
    "    # Simplified Hamiltonian representation (the actual coefficients for H2 at 0.74 A)\n",
    "    hamiltonian_info = {\n",
    "        'num_qubits': 4,\n",
    "        'classical_energy': classical_energy,\n",
    "        'coefficients': [-1.0523732, 0.39793742, -0.39793742, -0.01128010, 0.18093119, 0.18093119]\n",
    "    }\n",
    "    \n",
    "    return hamiltonian_info, classical_energy\n",
    "\n",
    "# Test it works\n",
    "ham_info, energy = create_simple_h2_hamiltonian(0.74)\n",
    "print(f\"H2 classical energy at 0.74 Å: {energy:.6f} Hartree\")\n",
    "print(f\"Hamiltonian uses {ham_info['num_qubits']} qubits\")\n",
    "print(\"✅ H2 molecule setup complete!\")"
   ]
  },
  {
   "cell_type": "code",
   "execution_count": 6,
   "id": "fa37fe4f-1cfc-481a-9420-29888df73368",
   "metadata": {},
   "outputs": [
    {
     "data": {
      "application/vnd.jupyter.widget-view+json": {
       "model_id": "91e1078f03b7435ea577e2d87ccdfd0c",
       "version_major": 2,
       "version_minor": 0
      },
      "text/plain": [
       "interactive(children=(FloatSlider(value=0.74, description='bond_distance', max=2.0, min=0.5, step=0.05), Outpu…"
      ]
     },
     "metadata": {},
     "output_type": "display_data"
    }
   ],
   "source": [
    "@widgets.interact(bond_distance=(0.5, 2.0, 0.05))\n",
    "def explore_h2_energy(bond_distance=0.74):\n",
    "    \"\"\"Interactive H2 energy exploration\"\"\"\n",
    "    ham_info, classical_energy = create_simple_h2_hamiltonian(bond_distance)\n",
    "    \n",
    "    print(f\"Bond distance: {bond_distance:.2f} Å\")\n",
    "    print(f\"Classical energy: {classical_energy:.6f} Hartree\")\n",
    "    print(f\"Number of qubits needed: {ham_info['num_qubits']}\")\n",
    "    \n",
    "    # Create potential energy curve\n",
    "    distances = np.linspace(0.5, 2.0, 20)\n",
    "    energies = []\n",
    "    for d in distances:\n",
    "        _, e = create_simple_h2_hamiltonian(d)\n",
    "        energies.append(e)\n",
    "    \n",
    "    plt.figure(figsize=(8, 5))\n",
    "    plt.plot(distances, energies, 'b-', linewidth=2, label='H₂ Potential Energy')\n",
    "    plt.axvline(bond_distance, color='red', linestyle='--', linewidth=2, \n",
    "                label=f'Current: {bond_distance:.2f} Å')\n",
    "    plt.axhline(classical_energy, color='red', linestyle=':', alpha=0.7)\n",
    "    plt.xlabel('Bond Distance (Å)')\n",
    "    plt.ylabel('Energy (Hartree)')\n",
    "    plt.title('H₂ Potential Energy Curve')\n",
    "    plt.legend()\n",
    "    plt.grid(True, alpha=0.3)\n",
    "    plt.text(0.6, -0.9, f'Energy: {classical_energy:.4f} Ha', \n",
    "             bbox=dict(boxstyle=\"round,pad=0.3\", facecolor=\"yellow\", alpha=0.7))\n",
    "    plt.show()"
   ]
  },
  {
   "cell_type": "code",
   "execution_count": null,
   "id": "0898d1e9-aa3e-4e55-8c68-d1473e59dc7a",
   "metadata": {},
   "outputs": [],
   "source": []
  }
 ],
 "metadata": {
  "kernelspec": {
   "display_name": "Python 3 (ipykernel)",
   "language": "python",
   "name": "python3"
  },
  "language_info": {
   "codemirror_mode": {
    "name": "ipython",
    "version": 3
   },
   "file_extension": ".py",
   "mimetype": "text/x-python",
   "name": "python",
   "nbconvert_exporter": "python",
   "pygments_lexer": "ipython3",
   "version": "3.11.0"
  }
 },
 "nbformat": 4,
 "nbformat_minor": 5
}
